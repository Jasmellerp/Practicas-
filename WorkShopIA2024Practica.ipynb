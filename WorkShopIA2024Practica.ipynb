{
  "nbformat": 4,
  "nbformat_minor": 0,
  "metadata": {
    "colab": {
      "provenance": [],
      "include_colab_link": true
    },
    "kernelspec": {
      "name": "python3",
      "display_name": "Python 3"
    },
    "language_info": {
      "name": "python"
    }
  },
  "cells": [
    {
      "cell_type": "markdown",
      "metadata": {
        "id": "view-in-github",
        "colab_type": "text"
      },
      "source": [
        "<a href=\"https://colab.research.google.com/github/Jasmellerp/Practicas-/blob/main/WorkShopIA2024Practica.ipynb\" target=\"_parent\"><img src=\"https://colab.research.google.com/assets/colab-badge.svg\" alt=\"Open In Colab\"/></a>"
      ]
    },
    {
      "cell_type": "code",
      "execution_count": null,
      "metadata": {
        "id": "-Az0G9W-e4jD"
      },
      "outputs": [],
      "source": [
        "import numpy as np\n",
        "import matplotlib.pyplot as plt\n",
        "\n",
        "from sklearn.datasets import load_diabetes"
      ]
    },
    {
      "cell_type": "code",
      "source": [
        "#Cargar la data del dataset en una variable\n",
        "diabetes = load_diabetes()"
      ],
      "metadata": {
        "id": "q8GbzOnmfWrK"
      },
      "execution_count": null,
      "outputs": []
    },
    {
      "cell_type": "code",
      "source": [
        "diabetes.DESCR"
      ],
      "metadata": {
        "id": "PETCoOKag9XK",
        "colab": {
          "base_uri": "https://localhost:8080/",
          "height": 139
        },
        "outputId": "c80533c6-27a5-4c08-b7f2-56c6da51f4eb"
      },
      "execution_count": null,
      "outputs": [
        {
          "output_type": "execute_result",
          "data": {
            "text/plain": [
              "'.. _diabetes_dataset:\\n\\nDiabetes dataset\\n----------------\\n\\nTen baseline variables, age, sex, body mass index, average blood\\npressure, and six blood serum measurements were obtained for each of n =\\n442 diabetes patients, as well as the response of interest, a\\nquantitative measure of disease progression one year after baseline.\\n\\n**Data Set Characteristics:**\\n\\n  :Number of Instances: 442\\n\\n  :Number of Attributes: First 10 columns are numeric predictive values\\n\\n  :Target: Column 11 is a quantitative measure of disease progression one year after baseline\\n\\n  :Attribute Information:\\n      - age     age in years\\n      - sex\\n      - bmi     body mass index\\n      - bp      average blood pressure\\n      - s1      tc, total serum cholesterol\\n      - s2      ldl, low-density lipoproteins\\n      - s3      hdl, high-density lipoproteins\\n      - s4      tch, total cholesterol / HDL\\n      - s5      ltg, possibly log of serum triglycerides level\\n      - s6      glu, blood sugar level\\n\\nNote: Each of these 10 feature variables have been mean centered and scaled by the standard deviation times the square root of `n_samples` (i.e. the sum of squares of each column totals 1).\\n\\nSource URL:\\nhttps://www4.stat.ncsu.edu/~boos/var.select/diabetes.html\\n\\nFor more information see:\\nBradley Efron, Trevor Hastie, Iain Johnstone and Robert Tibshirani (2004) \"Least Angle Regression,\" Annals of Statistics (with discussion), 407-499.\\n(https://web.stanford.edu/~hastie/Papers/LARS/LeastAngle_2002.pdf)\\n'"
            ],
            "application/vnd.google.colaboratory.intrinsic+json": {
              "type": "string"
            }
          },
          "metadata": {},
          "execution_count": 7
        }
      ]
    },
    {
      "cell_type": "code",
      "source": [
        "matriz = [[0,1,2,3,4,5,6,7],\n",
        " [0,1,2,3,4,5,6,7],\n",
        " [10,1,2,3,14,5,6,7],\n",
        " [20,1,2,3,24,5,6,7],\n",
        " [30,1,2,3,34,5,6,7],\n",
        " [40,1,2,3,44,5,6,7],\n",
        " [50,1,2,3,54,5,6,7],\n",
        " [60,1,2,3,64,5,6,7]]\n",
        "\n",
        "listaFilas = matriz[4] #Formato del Rango en Python\n",
        "columna = [fila[4] for fila in matriz[3:6][:]]\n",
        "\n",
        "#Como navegar en matrices\n",
        "#Arreglos de 2 dimensiones, como llego a un elemento? cual es la dirección?\n",
        "print( columna) #Posición Específica\n",
        "print(matriz[6]) #Fila específica\n",
        "print(matriz[:]) #Todas las Filas\n",
        "print(matriz[:][6]) #De todas las Filas Solo la posición específica\n",
        "print(matriz[3:][4]) #De un rango de Filas Solo la posición específica\n",
        "print(matriz[5:7]) #De un rango de Filas Solo la posición específica\n",
        "\n",
        "print(len(X))"
      ],
      "metadata": {
        "colab": {
          "base_uri": "https://localhost:8080/"
        },
        "id": "ZQUVPiw_iltm",
        "outputId": "265acf87-f56d-45ad-d521-2942eec1c3fb"
      },
      "execution_count": null,
      "outputs": [
        {
          "output_type": "stream",
          "name": "stdout",
          "text": [
            "[24, 34, 44]\n",
            "[50, 1, 2, 3, 54, 5, 6, 7]\n",
            "[[0, 1, 2, 3, 4, 5, 6, 7], [0, 1, 2, 3, 4, 5, 6, 7], [10, 1, 2, 3, 14, 5, 6, 7], [20, 1, 2, 3, 24, 5, 6, 7], [30, 1, 2, 3, 34, 5, 6, 7], [40, 1, 2, 3, 44, 5, 6, 7], [50, 1, 2, 3, 54, 5, 6, 7], [60, 1, 2, 3, 64, 5, 6, 7]]\n",
            "[50, 1, 2, 3, 54, 5, 6, 7]\n",
            "[60, 1, 2, 3, 64, 5, 6, 7]\n",
            "[[40, 1, 2, 3, 44, 5, 6, 7], [50, 1, 2, 3, 54, 5, 6, 7]]\n",
            "442\n"
          ]
        }
      ]
    },
    {
      "cell_type": "code",
      "source": [
        "listaFilasDiabetes = diabetes.data[:][:] #Formato del Rango en Python\n",
        "columnaDiabetes = [fila[8] for fila in listaFilasDiabetes]\n",
        "\n",
        "X = columnaDiabetes\n",
        "Y = diabetes.target\n",
        "\n",
        "print(len(X))"
      ],
      "metadata": {
        "colab": {
          "base_uri": "https://localhost:8080/"
        },
        "id": "KaHS3IrKhW7R",
        "outputId": "3bf8397b-1582-4125-a7f3-db4956524c4d"
      },
      "execution_count": null,
      "outputs": [
        {
          "output_type": "stream",
          "name": "stdout",
          "text": [
            "442\n"
          ]
        }
      ]
    },
    {
      "cell_type": "code",
      "source": [
        "plt.scatter(X,Y,alpha = 0.10)\n",
        "plt.show()"
      ],
      "metadata": {
        "colab": {
          "base_uri": "https://localhost:8080/",
          "height": 430
        },
        "id": "P5P9oTHwiSE7",
        "outputId": "ae3bd142-4bc2-4df6-9df2-ad3832e84c7f"
      },
      "execution_count": null,
      "outputs": [
        {
          "output_type": "display_data",
          "data": {
            "text/plain": [
              "<Figure size 640x480 with 1 Axes>"
            ],
            "image/png": "[encoded data removed]"
          },
          "metadata": {}
        }
      ]
    },
    {
      "cell_type": "code",
      "source": [
        "XPrueba = X[400:]\n",
        "XEntrenamiento = X[:400]\n",
        "\n",
        "XPrueba = np.array(XPrueba)\n",
        "XEntrenamiento = np.array(XEntrenamiento)\n",
        "\n",
        "YPrueba = Y[400:]\n",
        "YEntrenamiento = Y[:400]\n",
        "\n",
        "YPrueba = np.array(YPrueba)\n",
        "YEntrenamiento = np.array(YEntrenamiento)"
      ],
      "metadata": {
        "id": "simpsj5rrdpC"
      },
      "execution_count": null,
      "outputs": []
    },
    {
      "cell_type": "code",
      "source": [
        "import keras\n",
        "from keras.models import Sequential\n",
        "from keras.layers import Dense\n"
      ],
      "metadata": {
        "id": "1xXubgPbsDLr"
      },
      "execution_count": null,
      "outputs": []
    },
    {
      "cell_type": "code",
      "source": [
        "numeroCaracteristicas = np.prod(XEntrenamiento.shape)\n",
        "numeroCaracteristicas"
      ],
      "metadata": {
        "colab": {
          "base_uri": "https://localhost:8080/"
        },
        "id": "0V2ML5qvuRrg",
        "outputId": "1cd08f91-e413-4ea9-f208-6c37f2f742b0"
      },
      "execution_count": null,
      "outputs": [
        {
          "output_type": "execute_result",
          "data": {
            "text/plain": [
              "400"
            ]
          },
          "metadata": {},
          "execution_count": 39
        }
      ]
    },
    {
      "cell_type": "code",
      "source": [
        "modelo = Sequential()\n",
        "modelo.add(Dense(1, activation = \"linear\",input_dim = 1,))"
      ],
      "metadata": {
        "id": "UkRe6sras0zc"
      },
      "execution_count": null,
      "outputs": []
    },
    {
      "cell_type": "code",
      "source": [
        "modelo.summary()"
      ],
      "metadata": {
        "colab": {
          "base_uri": "https://localhost:8080/"
        },
        "id": "C7sPosgkuzG7",
        "outputId": "88cda45e-550a-41b9-84da-73eba509f954"
      },
      "execution_count": null,
      "outputs": [
        {
          "output_type": "stream",
          "name": "stdout",
          "text": [
            "Model: \"sequential_2\"\n",
            "_________________________________________________________________\n",
            " Layer (type)                Output Shape              Param #   \n",
            "=================================================================\n",
            " dense_2 (Dense)             (None, 1)                 2         \n",
            "                                                                 \n",
            "=================================================================\n",
            "Total params: 2 (8.00 Byte)\n",
            "Trainable params: 2 (8.00 Byte)\n",
            "Non-trainable params: 0 (0.00 Byte)\n",
            "_________________________________________________________________\n"
          ]
        }
      ]
    },
    {
      "cell_type": "code",
      "source": [
        "modelo.compile(optimizer='rmsprop', loss='mse', metrics= [\"mae\"])\n",
        "modelo.fit(XEntrenamiento,YEntrenamiento,batch_size = 1, epochs= 50)"
      ],
      "metadata": {
        "colab": {
          "base_uri": "https://localhost:8080/"
        },
        "id": "u0bpsNlpvJnz",
        "outputId": "31affbfe-8780-4d70-f7b5-d3545c317573"
      },
      "execution_count": null,
      "outputs": [
        {
          "output_type": "stream",
          "name": "stdout",
          "text": [
            "Epoch 1/50\n",
            "400/400 [==============================] - 1s 1ms/step - loss: 29195.8008 - mae: 152.3950\n",
            "Epoch 2/50\n",
            "400/400 [==============================] - 1s 1ms/step - loss: 29088.0918 - mae: 152.0419\n",
            "Epoch 3/50\n",
            "400/400 [==============================] - 1s 1ms/step - loss: 28980.8496 - mae: 151.6868\n",
            "Epoch 4/50\n",
            "400/400 [==============================] - 1s 1ms/step - loss: 28872.6895 - mae: 151.3320\n",
            "Epoch 5/50\n",
            "400/400 [==============================] - 1s 1ms/step - loss: 28765.7852 - mae: 150.9794\n",
            "Epoch 6/50\n",
            "400/400 [==============================] - 1s 1ms/step - loss: 28657.1523 - mae: 150.6247\n",
            "Epoch 7/50\n",
            "400/400 [==============================] - 1s 1ms/step - loss: 28550.8418 - mae: 150.2711\n",
            "Epoch 8/50\n",
            "400/400 [==============================] - 1s 1ms/step - loss: 28445.1016 - mae: 149.9187\n",
            "Epoch 9/50\n",
            "400/400 [==============================] - 1s 1ms/step - loss: 28338.7520 - mae: 149.5650\n",
            "Epoch 10/50\n",
            "400/400 [==============================] - 1s 1ms/step - loss: 28233.6406 - mae: 149.2135\n",
            "Epoch 11/50\n",
            "400/400 [==============================] - 1s 1ms/step - loss: 28127.4902 - mae: 148.8596\n",
            "Epoch 12/50\n",
            "400/400 [==============================] - 1s 1ms/step - loss: 28023.0371 - mae: 148.5069\n",
            "Epoch 13/50\n",
            "400/400 [==============================] - 1s 1ms/step - loss: 27916.5059 - mae: 148.1547\n",
            "Epoch 14/50\n",
            "400/400 [==============================] - 1s 1ms/step - loss: 27811.9844 - mae: 147.8031\n",
            "Epoch 15/50\n",
            "400/400 [==============================] - 1s 1ms/step - loss: 27708.3750 - mae: 147.4521\n",
            "Epoch 16/50\n",
            "400/400 [==============================] - 1s 1ms/step - loss: 27605.0781 - mae: 147.0984\n",
            "Epoch 17/50\n",
            "400/400 [==============================] - 1s 1ms/step - loss: 27501.4141 - mae: 146.7476\n",
            "Epoch 18/50\n",
            "400/400 [==============================] - 1s 1ms/step - loss: 27397.4805 - mae: 146.3947\n",
            "Epoch 19/50\n",
            "400/400 [==============================] - 1s 2ms/step - loss: 27294.8477 - mae: 146.0451\n",
            "Epoch 20/50\n",
            "400/400 [==============================] - 1s 2ms/step - loss: 27191.4023 - mae: 145.6925\n",
            "Epoch 21/50\n",
            "400/400 [==============================] - 1s 2ms/step - loss: 27088.5098 - mae: 145.3419\n",
            "Epoch 22/50\n",
            "400/400 [==============================] - 1s 2ms/step - loss: 26986.7852 - mae: 144.9908\n",
            "Epoch 23/50\n",
            "400/400 [==============================] - 1s 1ms/step - loss: 26885.2578 - mae: 144.6415\n",
            "Epoch 24/50\n",
            "400/400 [==============================] - 1s 1ms/step - loss: 26783.3359 - mae: 144.2916\n",
            "Epoch 25/50\n",
            "400/400 [==============================] - 1s 1ms/step - loss: 26682.4375 - mae: 143.9403\n",
            "Epoch 26/50\n",
            "400/400 [==============================] - 1s 2ms/step - loss: 26582.0508 - mae: 143.5911\n",
            "Epoch 27/50\n",
            "400/400 [==============================] - 1s 3ms/step - loss: 26481.2891 - mae: 143.2422\n",
            "Epoch 28/50\n",
            "400/400 [==============================] - 1s 2ms/step - loss: 26379.5176 - mae: 142.8931\n",
            "Epoch 29/50\n",
            "400/400 [==============================] - 1s 3ms/step - loss: 26280.3828 - mae: 142.5433\n",
            "Epoch 30/50\n",
            "400/400 [==============================] - 1s 2ms/step - loss: 26182.2227 - mae: 142.1943\n",
            "Epoch 31/50\n",
            "400/400 [==============================] - 1s 1ms/step - loss: 26081.2734 - mae: 141.8461\n",
            "Epoch 32/50\n",
            "400/400 [==============================] - 1s 3ms/step - loss: 25982.6758 - mae: 141.4974\n",
            "Epoch 33/50\n",
            "400/400 [==============================] - 1s 1ms/step - loss: 25884.3223 - mae: 141.1480\n",
            "Epoch 34/50\n",
            "400/400 [==============================] - 1s 1ms/step - loss: 25785.5605 - mae: 140.8007\n",
            "Epoch 35/50\n",
            "400/400 [==============================] - 1s 1ms/step - loss: 25686.7168 - mae: 140.4509\n",
            "Epoch 36/50\n",
            "400/400 [==============================] - 1s 2ms/step - loss: 25589.0020 - mae: 140.1059\n",
            "Epoch 37/50\n",
            "400/400 [==============================] - 1s 2ms/step - loss: 25491.6426 - mae: 139.7569\n",
            "Epoch 38/50\n",
            "400/400 [==============================] - 1s 2ms/step - loss: 25394.6543 - mae: 139.4099\n",
            "Epoch 39/50\n",
            "400/400 [==============================] - 1s 4ms/step - loss: 25296.5605 - mae: 139.0633\n",
            "Epoch 40/50\n",
            "400/400 [==============================] - 1s 2ms/step - loss: 25200.2324 - mae: 138.7145\n",
            "Epoch 41/50\n",
            "400/400 [==============================] - 1s 2ms/step - loss: 25104.2031 - mae: 138.3678\n",
            "Epoch 42/50\n",
            "400/400 [==============================] - 1s 2ms/step - loss: 25007.6680 - mae: 138.0210\n",
            "Epoch 43/50\n",
            "400/400 [==============================] - 1s 2ms/step - loss: 24910.9004 - mae: 137.6768\n",
            "Epoch 44/50\n",
            "400/400 [==============================] - 1s 2ms/step - loss: 24816.5820 - mae: 137.3306\n",
            "Epoch 45/50\n",
            "400/400 [==============================] - 1s 2ms/step - loss: 24721.9570 - mae: 136.9844\n",
            "Epoch 46/50\n",
            "400/400 [==============================] - 1s 1ms/step - loss: 24625.8105 - mae: 136.6382\n",
            "Epoch 47/50\n",
            "400/400 [==============================] - 1s 1ms/step - loss: 24530.9824 - mae: 136.2930\n",
            "Epoch 48/50\n",
            "400/400 [==============================] - 1s 1ms/step - loss: 24436.7129 - mae: 135.9494\n",
            "Epoch 49/50\n",
            "400/400 [==============================] - 1s 1ms/step - loss: 24342.3359 - mae: 135.6035\n",
            "Epoch 50/50\n",
            "400/400 [==============================] - 1s 1ms/step - loss: 24250.3555 - mae: 135.2577\n"
          ]
        },
        {
          "output_type": "execute_result",
          "data": {
            "text/plain": [
              "<keras.src.callbacks.History at 0x7cc75cf13100>"
            ]
          },
          "metadata": {},
          "execution_count": 38
        }
      ]
    },
    {
      "cell_type": "code",
      "source": [
        "mse , mae = modelo.evaluate(XPrueba,YPrueba)\n",
        "print(mse,mae)"
      ],
      "metadata": {
        "colab": {
          "base_uri": "https://localhost:8080/"
        },
        "id": "sY8E16iHzUBL",
        "outputId": "89f884db-8c26-4a2b-cb16-beb3761e081a"
      },
      "execution_count": null,
      "outputs": [
        {
          "output_type": "stream",
          "name": "stdout",
          "text": [
            "2/2 [==============================] - 0s 7ms/step - loss: 22527.7031 - mae: 130.4032\n",
            "22527.703125 130.4031982421875\n"
          ]
        }
      ]
    }
  ]
}